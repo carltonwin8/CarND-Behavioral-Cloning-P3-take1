{
 "cells": [
  {
   "cell_type": "markdown",
   "metadata": {},
   "source": [
    "## Done\n",
    "\n",
    "  - [Stearing angle visualizaton](steering.ipynb) (~~Find all the unique stearing angles in input data set~~)\n",
    "  - [Images](images.ipynb) ()\n",
    "  - [Nvidia's Network](nvidia.ipynb) ()\n",
    "\n",
    "## To Do\n",
    "\n",
    " \n",
    "  - display 3 x 3 images from the data set\n",
    "  - implement nvidia's network, train, test and run simulation\n",
    "  - take a previously trained network then extend it, train, fine-tune, test and run simulation\n",
    "  - produce video of simulation run and submit\n",
    "\n"
   ]
  },
  {
   "cell_type": "code",
   "execution_count": null,
   "metadata": {
    "collapsed": true
   },
   "outputs": [],
   "source": []
  }
 ],
 "metadata": {
  "anaconda-cloud": {},
  "kernelspec": {
   "display_name": "Python [conda env:IntroToTensorFlow]",
   "language": "python",
   "name": "conda-env-IntroToTensorFlow-py"
  },
  "language_info": {
   "codemirror_mode": {
    "name": "ipython",
    "version": 3
   },
   "file_extension": ".py",
   "mimetype": "text/x-python",
   "name": "python",
   "nbconvert_exporter": "python",
   "pygments_lexer": "ipython3",
   "version": "3.5.2"
  }
 },
 "nbformat": 4,
 "nbformat_minor": 1
}
